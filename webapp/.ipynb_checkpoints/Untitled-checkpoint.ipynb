{
 "cells": [
  {
   "cell_type": "code",
   "execution_count": 1,
   "metadata": {},
   "outputs": [
    {
     "name": "stderr",
     "output_type": "stream",
     "text": [
      "Using TensorFlow backend.\n"
     ]
    }
   ],
   "source": [
    "import cv2\n",
    "import tensorflow\n",
    "import numpy as np\n",
    "import keras\n",
    "from os import path\n",
    "from flask import Flask, jsonify, request\n",
    "from keras.models import load_model\n",
    "import base64\n",
    "import io\n",
    "from PIL import Image\n",
    "img = cv2.imread(\"./asuka.jpg\")"
   ]
  },
  {
   "cell_type": "code",
   "execution_count": 2,
   "metadata": {},
   "outputs": [
    {
     "data": {
      "text/plain": [
       "array([[[195, 189, 190],\n",
       "        [194, 188, 189],\n",
       "        [196, 190, 191],\n",
       "        ...,\n",
       "        [183, 181, 181],\n",
       "        [182, 180, 180],\n",
       "        [182, 180, 180]],\n",
       "\n",
       "       [[194, 188, 189],\n",
       "        [193, 187, 188],\n",
       "        [197, 191, 192],\n",
       "        ...,\n",
       "        [182, 180, 180],\n",
       "        [181, 179, 179],\n",
       "        [181, 179, 179]],\n",
       "\n",
       "       [[195, 189, 190],\n",
       "        [194, 188, 189],\n",
       "        [197, 191, 192],\n",
       "        ...,\n",
       "        [182, 180, 180],\n",
       "        [181, 179, 179],\n",
       "        [182, 180, 180]],\n",
       "\n",
       "       ...,\n",
       "\n",
       "       [[228, 226, 225],\n",
       "        [228, 226, 225],\n",
       "        [228, 226, 226],\n",
       "        ...,\n",
       "        [132, 159, 196],\n",
       "        [138, 165, 202],\n",
       "        [142, 169, 206]],\n",
       "\n",
       "       [[228, 226, 225],\n",
       "        [228, 226, 225],\n",
       "        [228, 226, 226],\n",
       "        ...,\n",
       "        [132, 159, 196],\n",
       "        [138, 165, 202],\n",
       "        [142, 169, 206]],\n",
       "\n",
       "       [[229, 227, 226],\n",
       "        [229, 227, 226],\n",
       "        [228, 226, 226],\n",
       "        ...,\n",
       "        [135, 161, 198],\n",
       "        [140, 166, 203],\n",
       "        [143, 169, 206]]], dtype=uint8)"
      ]
     },
     "execution_count": 2,
     "metadata": {},
     "output_type": "execute_result"
    }
   ],
   "source": [
    "img"
   ]
  },
  {
   "cell_type": "code",
   "execution_count": 3,
   "metadata": {},
   "outputs": [
    {
     "name": "stdout",
     "output_type": "stream",
     "text": [
      "[[[195 189 190]\n",
      "  [194 188 189]\n",
      "  [196 190 191]\n",
      "  ...\n",
      "  [183 181 181]\n",
      "  [182 180 180]\n",
      "  [182 180 180]]\n",
      "\n",
      " [[194 188 189]\n",
      "  [193 187 188]\n",
      "  [197 191 192]\n",
      "  ...\n",
      "  [182 180 180]\n",
      "  [181 179 179]\n",
      "  [181 179 179]]\n",
      "\n",
      " [[195 189 190]\n",
      "  [194 188 189]\n",
      "  [197 191 192]\n",
      "  ...\n",
      "  [182 180 180]\n",
      "  [181 179 179]\n",
      "  [182 180 180]]\n",
      "\n",
      " ...\n",
      "\n",
      " [[228 226 225]\n",
      "  [228 226 225]\n",
      "  [228 226 226]\n",
      "  ...\n",
      "  [132 159 196]\n",
      "  [138 165 202]\n",
      "  [142 169 206]]\n",
      "\n",
      " [[228 226 225]\n",
      "  [228 226 225]\n",
      "  [228 226 226]\n",
      "  ...\n",
      "  [132 159 196]\n",
      "  [138 165 202]\n",
      "  [142 169 206]]\n",
      "\n",
      " [[229 227 226]\n",
      "  [229 227 226]\n",
      "  [228 226 226]\n",
      "  ...\n",
      "  [135 161 198]\n",
      "  [140 166 203]\n",
      "  [143 169 206]]]\n"
     ]
    }
   ],
   "source": [
    "print(img)"
   ]
  },
  {
   "cell_type": "code",
   "execution_count": 5,
   "metadata": {},
   "outputs": [
    {
     "ename": "NameError",
     "evalue": "name 'img_numpy' is not defined",
     "output_type": "error",
     "traceback": [
      "\u001b[0;31m---------------------------------------------------------------------------\u001b[0m",
      "\u001b[0;31mNameError\u001b[0m                                 Traceback (most recent call last)",
      "\u001b[0;32m<ipython-input-5-175e5cba3cde>\u001b[0m in \u001b[0;36m<module>\u001b[0;34m()\u001b[0m\n\u001b[0;32m----> 1\u001b[0;31m \u001b[0mimg_gray\u001b[0m \u001b[0;34m=\u001b[0m \u001b[0mcv2\u001b[0m\u001b[0;34m.\u001b[0m\u001b[0mcvtColor\u001b[0m\u001b[0;34m(\u001b[0m\u001b[0mimg_numpy\u001b[0m\u001b[0;34m,\u001b[0m \u001b[0mcv2\u001b[0m\u001b[0;34m.\u001b[0m\u001b[0mCOLOR_BGR2GRAY\u001b[0m\u001b[0;34m)\u001b[0m\u001b[0;34m\u001b[0m\u001b[0m\n\u001b[0m\u001b[1;32m      2\u001b[0m \u001b[0mcascade\u001b[0m \u001b[0;34m=\u001b[0m \u001b[0mcv2\u001b[0m\u001b[0;34m.\u001b[0m\u001b[0mCascadeClassifier\u001b[0m\u001b[0;34m(\u001b[0m\u001b[0;34m\"./haarcascade_frontalface_alt.xml\"\u001b[0m\u001b[0;34m)\u001b[0m\u001b[0;34m\u001b[0m\u001b[0m\n\u001b[1;32m      3\u001b[0m \u001b[0mface_list\u001b[0m\u001b[0;34m=\u001b[0m\u001b[0mcascade\u001b[0m\u001b[0;34m.\u001b[0m\u001b[0mdetectMultiScale\u001b[0m\u001b[0;34m(\u001b[0m\u001b[0mimg_gray\u001b[0m\u001b[0;34m,\u001b[0m \u001b[0mscaleFactor\u001b[0m\u001b[0;34m=\u001b[0m\u001b[0;36m1.1\u001b[0m\u001b[0;34m,\u001b[0m \u001b[0mminNeighbors\u001b[0m\u001b[0;34m=\u001b[0m\u001b[0;36m2\u001b[0m\u001b[0;34m,\u001b[0m\u001b[0mminSize\u001b[0m\u001b[0;34m=\u001b[0m\u001b[0;34m(\u001b[0m\u001b[0;36m64\u001b[0m\u001b[0;34m,\u001b[0m\u001b[0;36m64\u001b[0m\u001b[0;34m)\u001b[0m\u001b[0;34m)\u001b[0m\u001b[0;34m\u001b[0m\u001b[0m\n\u001b[1;32m      4\u001b[0m \u001b[0;31m#顔が１つ以上検出された時\u001b[0m\u001b[0;34m\u001b[0m\u001b[0;34m\u001b[0m\u001b[0m\n\u001b[1;32m      5\u001b[0m \u001b[0;32mif\u001b[0m \u001b[0mlen\u001b[0m\u001b[0;34m(\u001b[0m\u001b[0mface_list\u001b[0m\u001b[0;34m)\u001b[0m \u001b[0;34m==\u001b[0m \u001b[0;36m1\u001b[0m\u001b[0;34m:\u001b[0m\u001b[0;34m\u001b[0m\u001b[0m\n",
      "\u001b[0;31mNameError\u001b[0m: name 'img_numpy' is not defined"
     ]
    }
   ],
   "source": [
    "img_numpy = cv2.imread(\"./asuka.jpg\")\n",
    "img = cv2.cvtColor(img_numpy, cv2.COLOR_RGBA2BGR)\n",
    "img_gray = cv2.cvtColor(img_numpy, cv2.COLOR_BGR2GRAY)\n",
    "cascade = cv2.CascadeClassifier(\"./haarcascade_frontalface_alt.xml\")\n",
    "face_list=cascade.detectMultiScale(img_gray, scaleFactor=1.1, minNeighbors=2,minSize=(64,64))\n",
    "#顔が１つ以上検出された時\n",
    "if len(face_list) == 1:\n",
    "    for rect in face_list:\n",
    "        x,y,width,height=rect\n",
    "        img = img[rect[1]:rect[1]+rect[3],rect[0]:rect[0]+rect[2]]\n",
    "        if img.shape[0]<64:\n",
    "            continue\n",
    "        img = cv2.resize(img,(64,64))\n",
    "        img_only_face = img\n",
    "        img_only_face_base64 = base64.encodestring(img_only_face)"
   ]
  },
  {
   "cell_type": "code",
   "execution_count": null,
   "metadata": {},
   "outputs": [],
   "source": []
  },
  {
   "cell_type": "code",
   "execution_count": null,
   "metadata": {},
   "outputs": [],
   "source": []
  }
 ],
 "metadata": {
  "kernelspec": {
   "display_name": "Python 3",
   "language": "python",
   "name": "python3"
  },
  "language_info": {
   "codemirror_mode": {
    "name": "ipython",
    "version": 3
   },
   "file_extension": ".py",
   "mimetype": "text/x-python",
   "name": "python",
   "nbconvert_exporter": "python",
   "pygments_lexer": "ipython3",
   "version": "3.6.5"
  }
 },
 "nbformat": 4,
 "nbformat_minor": 2
}
